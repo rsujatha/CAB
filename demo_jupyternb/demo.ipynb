{
 "cells": [
  {
   "cell_type": "code",
   "execution_count": 1,
   "metadata": {},
   "outputs": [],
   "source": [
    "import numpy as np\n",
    "import sys\n",
    "sys.path.append(\"..\") \n",
    "import cab\n",
    "import matplotlib.pyplot as plt"
   ]
  },
  {
   "cell_type": "code",
   "execution_count": 4,
   "metadata": {},
   "outputs": [],
   "source": [
    "kbyh,Tfn= np.loadtxt('cambTf_Om0.231_Ol0.724_Ob0.045_h0.700_ns0.961_z0.dat',usecols=[0,1],unpack = True)\n",
    "cab1 = cab.cosmology(kbyh=kbyh,Tfn=Tfn)\n",
    "m = np.logspace(10,14,10)\n",
    "nu0 = cab1.PeakHeight(m,kbyh,Tfn,z=0)\n",
    "nu1 = cab1.PeakHeight(m,kbyh,Tfn,z=1)\n",
    "t10_z0 = cab1.T10(m,kbyh,Tfn,0)\n",
    "t10_z1 = cab1.T10(m,kbyh,Tfn,1)\n"
   ]
  },
  {
   "cell_type": "code",
   "execution_count": 5,
   "metadata": {},
   "outputs": [
    {
     "data": {
      "image/png": "[encoded data removed]",
      "text/plain": [
       "<Figure size 432x288 with 1 Axes>"
      ]
     },
     "metadata": {
      "needs_background": "light"
     },
     "output_type": "display_data"
    }
   ],
   "source": [
    "plt.scatter(nu0,t10_z0,color='k')\n",
    "plt.scatter(nu1,t10_z1,color='k',facecolors='none')\n",
    "plt.xlabel(r'$\\nu(m,z)$')\n",
    "plt.ylabel('linear bias $b_{1}$')\n",
    "plt.show()"
   ]
  },
  {
   "cell_type": "code",
   "execution_count": null,
   "metadata": {},
   "outputs": [],
   "source": []
  }
 ],
 "metadata": {
  "kernelspec": {
   "display_name": "Python 2",
   "language": "python",
   "name": "python2"
  },
  "language_info": {
   "codemirror_mode": {
    "name": "ipython",
    "version": 2
   },
   "file_extension": ".py",
   "mimetype": "text/x-python",
   "name": "python",
   "nbconvert_exporter": "python",
   "pygments_lexer": "ipython2",
   "version": "2.7.17"
  }
 },
 "nbformat": 4,
 "nbformat_minor": 2
}
