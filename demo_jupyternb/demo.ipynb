{
 "cells": [
  {
   "cell_type": "code",
   "execution_count": 1,
   "metadata": {},
   "outputs": [],
   "source": [
    "import numpy as np\n",
    "import sys\n",
    "sys.path.append(\"..\") \n",
    "import cab\n",
    "import matplotlib.pyplot as plt"
   ]
  },
  {
   "cell_type": "code",
   "execution_count": 3,
   "metadata": {},
   "outputs": [
    {
     "ename": "NameError",
     "evalue": "name 'kbyh0' is not defined",
     "output_type": "error",
     "traceback": [
      "\u001b[0;31m---------------------------------------------------------------------------\u001b[0m",
      "\u001b[0;31mNameError\u001b[0m                                 Traceback (most recent call last)",
      "\u001b[0;32m<ipython-input-3-fa836f78120a>\u001b[0m in \u001b[0;36m<module>\u001b[0;34m()\u001b[0m\n\u001b[1;32m      2\u001b[0m \u001b[0mcab1\u001b[0m \u001b[0;34m=\u001b[0m \u001b[0mcab\u001b[0m\u001b[0;34m.\u001b[0m\u001b[0mcosmology\u001b[0m\u001b[0;34m(\u001b[0m\u001b[0mkbyh\u001b[0m\u001b[0;34m=\u001b[0m\u001b[0mkbyh\u001b[0m\u001b[0;34m,\u001b[0m\u001b[0mTfn\u001b[0m\u001b[0;34m=\u001b[0m\u001b[0mTfn\u001b[0m\u001b[0;34m)\u001b[0m\u001b[0;34m\u001b[0m\u001b[0m\n\u001b[1;32m      3\u001b[0m \u001b[0mm\u001b[0m \u001b[0;34m=\u001b[0m \u001b[0mnp\u001b[0m\u001b[0;34m.\u001b[0m\u001b[0mlogspace\u001b[0m\u001b[0;34m(\u001b[0m\u001b[0;36m10\u001b[0m\u001b[0;34m,\u001b[0m\u001b[0;36m14\u001b[0m\u001b[0;34m,\u001b[0m\u001b[0;36m10\u001b[0m\u001b[0;34m)\u001b[0m\u001b[0;34m\u001b[0m\u001b[0m\n\u001b[0;32m----> 4\u001b[0;31m \u001b[0mnu0\u001b[0m \u001b[0;34m=\u001b[0m \u001b[0mcab1\u001b[0m\u001b[0;34m.\u001b[0m\u001b[0mPeakHeight\u001b[0m\u001b[0;34m(\u001b[0m\u001b[0mm\u001b[0m\u001b[0;34m,\u001b[0m\u001b[0mkbyh0\u001b[0m\u001b[0;34m,\u001b[0m\u001b[0mTfn0\u001b[0m\u001b[0;34m,\u001b[0m\u001b[0mz\u001b[0m\u001b[0;34m=\u001b[0m\u001b[0;36m0\u001b[0m\u001b[0;34m)\u001b[0m\u001b[0;34m\u001b[0m\u001b[0m\n\u001b[0m\u001b[1;32m      5\u001b[0m \u001b[0mnu1\u001b[0m \u001b[0;34m=\u001b[0m \u001b[0mcab1\u001b[0m\u001b[0;34m.\u001b[0m\u001b[0mPeakHeight\u001b[0m\u001b[0;34m(\u001b[0m\u001b[0mm\u001b[0m\u001b[0;34m,\u001b[0m\u001b[0mkbyh1\u001b[0m\u001b[0;34m,\u001b[0m\u001b[0mTfn1\u001b[0m\u001b[0;34m,\u001b[0m\u001b[0mz\u001b[0m\u001b[0;34m=\u001b[0m\u001b[0;36m1\u001b[0m\u001b[0;34m)\u001b[0m\u001b[0;34m\u001b[0m\u001b[0m\n\u001b[1;32m      6\u001b[0m \u001b[0mt10_z0\u001b[0m \u001b[0;34m=\u001b[0m \u001b[0mcab1\u001b[0m\u001b[0;34m.\u001b[0m\u001b[0mT10\u001b[0m\u001b[0;34m(\u001b[0m\u001b[0mm\u001b[0m\u001b[0;34m,\u001b[0m\u001b[0mkbyh0\u001b[0m\u001b[0;34m,\u001b[0m\u001b[0mTfn0\u001b[0m\u001b[0;34m,\u001b[0m\u001b[0;36m0\u001b[0m\u001b[0;34m)\u001b[0m\u001b[0;34m\u001b[0m\u001b[0m\n",
      "\u001b[0;31mNameError\u001b[0m: name 'kbyh0' is not defined"
     ]
    }
   ],
   "source": [
    "kbyh,Tfn= np.loadtxt('cambTf_Om0.231_Ol0.724_Ob0.045_h0.700_ns0.961_z0.dat',usecols=[0,1],unpack = True)\n",
    "cab1 = cab.cosmology(kbyh=kbyh,Tfn=Tfn)\n",
    "m = np.logspace(10,14,10)\n",
    "nu0 = cab1.PeakHeight(m,kbyh,Tfn,z=0)\n",
    "nu1 = cab1.PeakHeight(m,kbyh,Tfn1,z=1)\n",
    "t10_z0 = cab1.T10(m,kbyh0,Tfn0,0)\n",
    "t10_z1 = cab1.T10(m,kbyh0,Tfn0,1)\n"
   ]
  },
  {
   "cell_type": "code",
   "execution_count": null,
   "metadata": {},
   "outputs": [],
   "source": [
    "plt.scatter(nu0,t10_z0,color='k')\n",
    "plt.scatter(nu1,t10_z1,color='k',facecolors='none')\n",
    "plt.xlabel(r'$\\nu(m,z)$')\n",
    "plt.ylabel('linear bias $b_{1}$')\n",
    "plt.show()"
   ]
  },
  {
   "cell_type": "code",
   "execution_count": null,
   "metadata": {},
   "outputs": [],
   "source": []
  }
 ],
 "metadata": {
  "kernelspec": {
   "display_name": "Python 2",
   "language": "python",
   "name": "python2"
  },
  "language_info": {
   "codemirror_mode": {
    "name": "ipython",
    "version": 2
   },
   "file_extension": ".py",
   "mimetype": "text/x-python",
   "name": "python",
   "nbconvert_exporter": "python",
   "pygments_lexer": "ipython2",
   "version": "2.7.17"
  }
 },
 "nbformat": 4,
 "nbformat_minor": 2
}
