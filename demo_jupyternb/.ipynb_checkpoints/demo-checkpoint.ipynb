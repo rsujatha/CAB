{
 "cells": [
  {
   "cell_type": "code",
   "execution_count": 1,
   "metadata": {},
   "outputs": [],
   "source": [
    "import numpy as np\n",
    "import sys\n",
    "sys.path.append(\"..\") \n",
    "import cab\n",
    "import matplotlib.pyplot as plt"
   ]
  },
  {
   "cell_type": "code",
   "execution_count": 10,
   "metadata": {},
   "outputs": [],
   "source": [
    "cab1 = cab.cosmology()\n",
    "redshift = 0\n",
    "kbyh0,Tfn0= np.loadtxt('cambTf_Om0.231_Ol0.724_Ob0.045_h0.700_ns0.961_z'+str(redshift)+'.dat',usecols=[0,1],unpack = True)\n",
    "m = np.logspace(10,13,10)\n",
    "nu0 = cab1.PeakHeight(m,kbyh0,Tfn0,redshift)\n",
    "redshift = 1\n",
    "kbyh1,Tfn1= np.loadtxt('cambTf_Om0.231_Ol0.724_Ob0.045_h0.700_ns0.961_z'+str(redshift)+'.dat',usecols=[0,1],unpack = True)\n",
    "nu1 = cab1.PeakHeight(m,kbyh1,Tfn1,redshift)\n",
    "t10_z0 = cab1.T10(nu0,kbyh0,Tfn0,0,0)\n",
    "t10_z1 = cab1.T10(m,kbyh1,Tfn1,1)\n",
    "t10_z1 = "
   ]
  },
  {
   "cell_type": "code",
   "execution_count": 13,
   "metadata": {},
   "outputs": [
    {
     "name": "stdout",
     "output_type": "stream",
     "text": [
      "[0.79531941 0.83994164 0.89644217 0.96877774 1.06263887 1.18612685\n",
      " 1.35085732 1.57436154 1.8835891  2.31960283] [0.59332874 0.59331183 0.59329367 0.59327416 0.59325316 0.59323054\n",
      " 0.59320621 0.59318003 0.59315184 0.59312156]\n"
     ]
    },
    {
     "data": {
      "image/png": "[encoded data removed]",
      "text/plain": [
       "<Figure size 432x288 with 1 Axes>"
      ]
     },
     "metadata": {
      "needs_background": "light"
     },
     "output_type": "display_data"
    }
   ],
   "source": [
    "plt.scatter(nu0,t10_z0)\n",
    "plt.scatter(nu1,t10_z1)\n",
    "plt.xscale('log')\n",
    "print t10_z1,t10_z0"
   ]
  },
  {
   "cell_type": "code",
   "execution_count": null,
   "metadata": {},
   "outputs": [],
   "source": []
  }
 ],
 "metadata": {
  "kernelspec": {
   "display_name": "Python 2",
   "language": "python",
   "name": "python2"
  },
  "language_info": {
   "codemirror_mode": {
    "name": "ipython",
    "version": 2
   },
   "file_extension": ".py",
   "mimetype": "text/x-python",
   "name": "python",
   "nbconvert_exporter": "python",
   "pygments_lexer": "ipython2",
   "version": "2.7.17"
  }
 },
 "nbformat": 4,
 "nbformat_minor": 2
}
